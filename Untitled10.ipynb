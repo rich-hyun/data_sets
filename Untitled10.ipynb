{
  "nbformat": 4,
  "nbformat_minor": 0,
  "metadata": {
    "colab": {
      "provenance": [],
      "authorship_tag": "ABX9TyNOkLBtYBDdN63VETfGYlOc",
      "include_colab_link": true
    },
    "kernelspec": {
      "name": "python3",
      "display_name": "Python 3"
    },
    "language_info": {
      "name": "python"
    }
  },
  "cells": [
    {
      "cell_type": "markdown",
      "metadata": {
        "id": "view-in-github",
        "colab_type": "text"
      },
      "source": [
        "<a href=\"https://colab.research.google.com/github/rich-hyun/data_sets/blob/main/Untitled10.ipynb\" target=\"_parent\"><img src=\"https://colab.research.google.com/assets/colab-badge.svg\" alt=\"Open In Colab\"/></a>"
      ]
    },
    {
      "cell_type": "markdown",
      "source": [
        "#Q1: Simple String Slicing"
      ],
      "metadata": {
        "id": "B3YFfeojY8gG"
      }
    },
    {
      "cell_type": "markdown",
      "source": [
        "#1.1 Extract the First 3 Character. Given the following string text, Extract the first three characters. (3pts)"
      ],
      "metadata": {
        "id": "Qp3fbOyKab1t"
      }
    },
    {
      "cell_type": "code",
      "execution_count": 50,
      "metadata": {
        "colab": {
          "base_uri": "https://localhost:8080/"
        },
        "id": "CAZdknCiYuJv",
        "outputId": "242720ed-6cb8-4b4e-e342-424218e12fd1"
      },
      "outputs": [
        {
          "output_type": "stream",
          "name": "stdout",
          "text": [
            "Pyt\n"
          ]
        }
      ],
      "source": [
        "text = \"Python\"\n",
        "print(text[:3])"
      ]
    },
    {
      "cell_type": "markdown",
      "source": [
        "##1.2 Extract the Last 3 Characters for the following string word.(3pts)"
      ],
      "metadata": {
        "id": "cMhH1WUcY7qz"
      }
    },
    {
      "cell_type": "code",
      "source": [
        "word = \"Programming\"\n",
        "print(word[-3:])"
      ],
      "metadata": {
        "colab": {
          "base_uri": "https://localhost:8080/"
        },
        "id": "7Dt1ruffa7bh",
        "outputId": "0cf944d7-cc48-4e06-e2d0-33b47d7841b8"
      },
      "execution_count": 51,
      "outputs": [
        {
          "output_type": "stream",
          "name": "stdout",
          "text": [
            "ing\n"
          ]
        }
      ]
    },
    {
      "cell_type": "markdown",
      "source": [
        "##1.3 Reverse the string name. (4pts)"
      ],
      "metadata": {
        "id": "Zw75zGy9bRLQ"
      }
    },
    {
      "cell_type": "code",
      "source": [
        "name = 'Alice'\n",
        "print(name[::-1])"
      ],
      "metadata": {
        "colab": {
          "base_uri": "https://localhost:8080/"
        },
        "id": "EUHCsX_7bShu",
        "outputId": "251cf0d5-ef0c-445c-c737-7019b7ac1d9d"
      },
      "execution_count": 52,
      "outputs": [
        {
          "output_type": "stream",
          "name": "stdout",
          "text": [
            "ecilA\n"
          ]
        }
      ]
    },
    {
      "cell_type": "markdown",
      "source": [
        "##1.4 Extract the Middle Part of a String. (3 pts)"
      ],
      "metadata": {
        "id": "WdffbulTbsEe"
      }
    },
    {
      "cell_type": "code",
      "source": [
        "phrase = \"HelloWorld\"\n",
        "print(phrase[3:7])"
      ],
      "metadata": {
        "colab": {
          "base_uri": "https://localhost:8080/"
        },
        "id": "Z28oSKezbr51",
        "outputId": "1f5ceb8e-dcde-42a9-e0a1-a9faf1740636"
      },
      "execution_count": 53,
      "outputs": [
        {
          "output_type": "stream",
          "name": "stdout",
          "text": [
            "loWo\n"
          ]
        }
      ]
    },
    {
      "cell_type": "markdown",
      "source": [
        "##1.5 Intermediate String Slicing - Remove the First and Last Character given string username. (4pts)"
      ],
      "metadata": {
        "id": "Ebifr3JPb_2V"
      }
    },
    {
      "cell_type": "code",
      "source": [
        "word = \"Python\"\n",
        "modified_word = word[1:-1]\n",
        "print(modified_word)  # Output: \"ytho\"\n",
        "\n",
        "username = \"Student\"\n",
        "aa=username[1:-1]\n",
        "print(aa)"
      ],
      "metadata": {
        "colab": {
          "base_uri": "https://localhost:8080/"
        },
        "id": "s8_VugJrcBRZ",
        "outputId": "9ec00256-e556-418f-dbdd-e3c7f872be51"
      },
      "execution_count": 54,
      "outputs": [
        {
          "output_type": "stream",
          "name": "stdout",
          "text": [
            "ytho\n",
            "tuden\n"
          ]
        }
      ]
    },
    {
      "cell_type": "markdown",
      "source": [
        "##1.6 Intermediate String Slicing - Given string letters, extract Every Second Character. (4pts)"
      ],
      "metadata": {
        "id": "pFFJOwZ4cPCE"
      }
    },
    {
      "cell_type": "code",
      "source": [
        "letters = \"abcdefg\"\n",
        "print(letters[::2])"
      ],
      "metadata": {
        "colab": {
          "base_uri": "https://localhost:8080/"
        },
        "id": "xowTe5TmcQC-",
        "outputId": "4f2719dd-52e8-4315-e940-bdfd05ebec06"
      },
      "execution_count": 55,
      "outputs": [
        {
          "output_type": "stream",
          "name": "stdout",
          "text": [
            "aceg\n"
          ]
        }
      ]
    },
    {
      "cell_type": "markdown",
      "source": [
        "##1.7 Advanced String Slicing: given string sentence, extract every third Character (4pts)"
      ],
      "metadata": {
        "id": "rfrW3hbhchQa"
      }
    },
    {
      "cell_type": "code",
      "source": [
        "sentence = \"abcdefghijk\"\n",
        "print(sentence[::3])"
      ],
      "metadata": {
        "colab": {
          "base_uri": "https://localhost:8080/"
        },
        "id": "QbdL3Bm_chZx",
        "outputId": "ee695fe8-88a9-4ece-dfad-280c30c25971"
      },
      "execution_count": 56,
      "outputs": [
        {
          "output_type": "stream",
          "name": "stdout",
          "text": [
            "adgj\n"
          ]
        }
      ]
    },
    {
      "cell_type": "markdown",
      "source": [
        "##1.8 Advanced String Slicing: given string sentence, reverse and extract Every Second Character. (3pts)"
      ],
      "metadata": {
        "id": "wmJEZJEac5GM"
      }
    },
    {
      "cell_type": "code",
      "source": [
        "sentence = \"abcdefghijk\"\n",
        "print(sentence[::-1][::2])"
      ],
      "metadata": {
        "colab": {
          "base_uri": "https://localhost:8080/"
        },
        "id": "rr09BMoFc5NN",
        "outputId": "77435eec-422a-4239-eda0-4d199ff2c936"
      },
      "execution_count": 57,
      "outputs": [
        {
          "output_type": "stream",
          "name": "stdout",
          "text": [
            "kigeca\n"
          ]
        }
      ]
    },
    {
      "cell_type": "markdown",
      "source": [
        "#Part 2: List Slicing Practice (With Hints!) (30pts)¶\n",
        "Basic List indexing"
      ],
      "metadata": {
        "id": "IYsiPipYdMIr"
      }
    },
    {
      "cell_type": "code",
      "source": [
        "numbers = [50, 100, 450, 10, 20, 30, 40, 50, 60, 70, 2060, 210, 112]"
      ],
      "metadata": {
        "id": "LwjaPggXdObo"
      },
      "execution_count": 58,
      "outputs": []
    },
    {
      "cell_type": "markdown",
      "source": [
        "###2.1 Given list numbers, extract the first three elements using slicing. (3pts)"
      ],
      "metadata": {
        "id": "PuaQYlzOdX-2"
      }
    },
    {
      "cell_type": "code",
      "source": [
        "print(numbers[:3])"
      ],
      "metadata": {
        "colab": {
          "base_uri": "https://localhost:8080/"
        },
        "id": "qJ6HNDsLdZAX",
        "outputId": "70a2a179-0d53-4ce4-8a2f-be676160a6ac"
      },
      "execution_count": 59,
      "outputs": [
        {
          "output_type": "stream",
          "name": "stdout",
          "text": [
            "[50, 100, 450]\n"
          ]
        }
      ]
    },
    {
      "cell_type": "markdown",
      "source": [
        "##2.2 Extract the Last 3 Elements. (3pts)"
      ],
      "metadata": {
        "id": "HA-1sNWydip9"
      }
    },
    {
      "cell_type": "code",
      "source": [
        "fruits = ['blueberry', \"apple\", \"banana\", \"cherry\", \"date\", \"fig\", \"grape\", \"kiwi\", 'mango']\n",
        "print(fruits[-3:])"
      ],
      "metadata": {
        "colab": {
          "base_uri": "https://localhost:8080/"
        },
        "id": "oN-1S3vBdiyg",
        "outputId": "fb81705e-b92f-40bf-8a3f-1304481a465a"
      },
      "execution_count": 60,
      "outputs": [
        {
          "output_type": "stream",
          "name": "stdout",
          "text": [
            "['grape', 'kiwi', 'mango']\n"
          ]
        }
      ]
    },
    {
      "cell_type": "markdown",
      "source": [
        "##2.3 Given list fruits, Extract elements from index 2 to 5 (inclusive of index 2, exclusive of index 5). (3pts)"
      ],
      "metadata": {
        "id": "pHiYAV1YdtK1"
      }
    },
    {
      "cell_type": "code",
      "source": [
        "print(fruits[2:5])"
      ],
      "metadata": {
        "colab": {
          "base_uri": "https://localhost:8080/"
        },
        "id": "BiC70j5sdtaL",
        "outputId": "e6557292-7049-450f-83aa-f9f37fa30f96"
      },
      "execution_count": 61,
      "outputs": [
        {
          "output_type": "stream",
          "name": "stdout",
          "text": [
            "['banana', 'cherry', 'date']\n"
          ]
        }
      ]
    },
    {
      "cell_type": "markdown",
      "source": [
        "##2.4 Extract Every Second Element given list fruits. (4pts)"
      ],
      "metadata": {
        "id": "45Ea4Pqwd3ct"
      }
    },
    {
      "cell_type": "code",
      "source": [
        "print(fruits[::2])"
      ],
      "metadata": {
        "colab": {
          "base_uri": "https://localhost:8080/"
        },
        "id": "8LjlYqtod3kz",
        "outputId": "8df1fc96-3e77-4053-fc64-3ef877725015"
      },
      "execution_count": 62,
      "outputs": [
        {
          "output_type": "stream",
          "name": "stdout",
          "text": [
            "['blueberry', 'banana', 'date', 'grape', 'mango']\n"
          ]
        }
      ]
    },
    {
      "cell_type": "markdown",
      "source": [
        "##2.5 Reverse a List. Reverse the list fruits. (3pts)"
      ],
      "metadata": {
        "id": "sMqqwe41d7sI"
      }
    },
    {
      "cell_type": "code",
      "source": [
        "print(fruits[::-1])"
      ],
      "metadata": {
        "colab": {
          "base_uri": "https://localhost:8080/"
        },
        "id": "I5ZnsihFd7xt",
        "outputId": "d67fa0c9-2f84-4368-cce1-3624f942ff70"
      },
      "execution_count": 63,
      "outputs": [
        {
          "output_type": "stream",
          "name": "stdout",
          "text": [
            "['mango', 'kiwi', 'grape', 'fig', 'date', 'cherry', 'banana', 'apple', 'blueberry']\n"
          ]
        }
      ]
    },
    {
      "cell_type": "markdown",
      "source": [
        "##2.6 Extract Every Third Element of list fruits in reverse. (3pts)"
      ],
      "metadata": {
        "id": "V0v-z69peEgf"
      }
    },
    {
      "cell_type": "code",
      "source": [
        "print(fruits[::-3])"
      ],
      "metadata": {
        "colab": {
          "base_uri": "https://localhost:8080/"
        },
        "id": "YetIPg82eEve",
        "outputId": "8facfd21-2a2e-46ec-9100-ca6f8ce1abd9"
      },
      "execution_count": 64,
      "outputs": [
        {
          "output_type": "stream",
          "name": "stdout",
          "text": [
            "['mango', 'fig', 'banana']\n"
          ]
        }
      ]
    },
    {
      "cell_type": "markdown",
      "source": [
        "2.7 Challenge problem - Extract the Middle Elements given list colors, in other words, extract all elements except the first and last.(3pts)"
      ],
      "metadata": {
        "id": "xc3oc7OceMQj"
      }
    },
    {
      "cell_type": "code",
      "source": [
        "colors = [\"black\", \"red\", \"blue\", \"green\", \"yellow\", \"orange\", \"purple\", \"pink\"]\n",
        "print(colors[1:-1])"
      ],
      "metadata": {
        "colab": {
          "base_uri": "https://localhost:8080/"
        },
        "id": "0m7MMAgjeMX0",
        "outputId": "660744bb-780e-4fc3-aab8-8226c1453709"
      },
      "execution_count": 65,
      "outputs": [
        {
          "output_type": "stream",
          "name": "stdout",
          "text": [
            "['red', 'blue', 'green', 'yellow', 'orange', 'purple']\n"
          ]
        }
      ]
    },
    {
      "cell_type": "markdown",
      "source": [
        "##2.8 Challenge problem - Split a List into Two Halves given list words. (4pts)"
      ],
      "metadata": {
        "id": "3nJBtCzpedae"
      }
    },
    {
      "cell_type": "code",
      "source": [
        "words = [\"Python\", \"Java\", \"C++\", \"JavaScript\", \"Ruby\", \"Swift\", \"R\", \"SAS\", \"Perl\"]\n",
        "def split_list(lst):\n",
        "    mid = len(lst) // 2\n",
        "    return lst[:mid], lst[mid:]\n",
        "\n",
        "first_half, second_half = split_list(words)\n",
        "print(\"Second Half:\", second_half)\n",
        "print(\"First Half:\", first_half)"
      ],
      "metadata": {
        "colab": {
          "base_uri": "https://localhost:8080/"
        },
        "id": "2CsLKuGdedhY",
        "outputId": "8de1e8cc-3240-4445-fab5-826d6829e3e0"
      },
      "execution_count": 66,
      "outputs": [
        {
          "output_type": "stream",
          "name": "stdout",
          "text": [
            "Second Half: ['Ruby', 'Swift', 'R', 'SAS', 'Perl']\n",
            "First Half: ['Python', 'Java', 'C++', 'JavaScript']\n"
          ]
        }
      ]
    },
    {
      "cell_type": "markdown",
      "source": [
        "##2.9 Challenge problem - Replace the middle three elements of list numbers with [-1, -2, -3]. (4pts)"
      ],
      "metadata": {
        "id": "bd0EKdowgyyX"
      }
    },
    {
      "cell_type": "code",
      "source": [
        "numbers = [0, 5, 10, 15, 20, 25, 30, 35, 40, 45, 50]\n",
        "mid_s = len(numbers) // 2 - 1  # 중간 시작 인덱스\n",
        "mid_e = mid_s + 3            # 끝 인덱스\n",
        "\n",
        "# 중간 부분 대체\n",
        "numbers[mid_s:mid_e] = [-1, -2, -3]\n",
        "\n",
        "print(numbers)"
      ],
      "metadata": {
        "colab": {
          "base_uri": "https://localhost:8080/"
        },
        "id": "qvJC8i4JgzAp",
        "outputId": "7f56d544-75cf-4f1d-b86d-2258c0aa30e0"
      },
      "execution_count": 67,
      "outputs": [
        {
          "output_type": "stream",
          "name": "stdout",
          "text": [
            "[0, 5, 10, 15, -1, -2, -3, 35, 40, 45, 50]\n"
          ]
        }
      ]
    },
    {
      "cell_type": "markdown",
      "source": [
        "#Part 3: Tuple Practice"
      ],
      "metadata": {
        "id": "ak5CkHRDjY0I"
      }
    },
    {
      "cell_type": "markdown",
      "source": [
        "#3.1 Tuple Creation and Print First and Last Elements"
      ],
      "metadata": {
        "id": "QR4Corh_jZmH"
      }
    },
    {
      "cell_type": "code",
      "source": [
        "t = (5, 10, 15, 20, 25)\n",
        "print(t[0])\n",
        "print(t[-1])"
      ],
      "metadata": {
        "colab": {
          "base_uri": "https://localhost:8080/"
        },
        "id": "dQ0PA3wDjZtS",
        "outputId": "1427ec62-57a5-4f6d-f66a-7fcfcfb663f6"
      },
      "execution_count": 68,
      "outputs": [
        {
          "output_type": "stream",
          "name": "stdout",
          "text": [
            "5\n",
            "25\n"
          ]
        }
      ]
    },
    {
      "cell_type": "markdown",
      "source": [
        "##3.2 Print the Third Element"
      ],
      "metadata": {
        "id": "qbUnXJNNjlKh"
      }
    },
    {
      "cell_type": "code",
      "source": [
        "print(t[2])"
      ],
      "metadata": {
        "colab": {
          "base_uri": "https://localhost:8080/"
        },
        "id": "gPKpoC6ijlRA",
        "outputId": "9647e61e-8797-4d49-d1ec-a97f64550e92"
      },
      "execution_count": 69,
      "outputs": [
        {
          "output_type": "stream",
          "name": "stdout",
          "text": [
            "15\n"
          ]
        }
      ]
    },
    {
      "cell_type": "markdown",
      "source": [
        "##3.3 Extract the Middle 4 Elements"
      ],
      "metadata": {
        "id": "eZTk4Uf1joIh"
      }
    },
    {
      "cell_type": "code",
      "source": [
        "t = (5, 10, 15, 20, 25, 30, 35)\n",
        "print(t[2:6])"
      ],
      "metadata": {
        "colab": {
          "base_uri": "https://localhost:8080/"
        },
        "id": "GZdVUxICjoOR",
        "outputId": "9a3723a5-f78c-4c44-8db1-513ed80dc44d"
      },
      "execution_count": 70,
      "outputs": [
        {
          "output_type": "stream",
          "name": "stdout",
          "text": [
            "(15, 20, 25, 30)\n"
          ]
        }
      ]
    },
    {
      "cell_type": "markdown",
      "source": [
        "##3.4 Tuple Concatenation"
      ],
      "metadata": {
        "id": "kOfMBWMOjqtQ"
      }
    },
    {
      "cell_type": "code",
      "source": [
        "t1 = (1, 2, 3)\n",
        "t2 = (4, 5, 6)\n",
        "t3 = t1 + t2\n",
        "print(t3)"
      ],
      "metadata": {
        "colab": {
          "base_uri": "https://localhost:8080/"
        },
        "id": "0NwyjpvGjqy_",
        "outputId": "7683cab5-6f7c-420c-f426-43f61b9a5004"
      },
      "execution_count": 71,
      "outputs": [
        {
          "output_type": "stream",
          "name": "stdout",
          "text": [
            "(1, 2, 3, 4, 5, 6)\n"
          ]
        }
      ]
    },
    {
      "cell_type": "markdown",
      "source": [
        "##3.5 Tuple Repetition"
      ],
      "metadata": {
        "id": "36vNX_6zjq4u"
      }
    },
    {
      "cell_type": "code",
      "source": [
        "t4 = (7, 8)\n",
        "t4_repeat = t4 * 3\n",
        "print(t4_repeat)"
      ],
      "metadata": {
        "colab": {
          "base_uri": "https://localhost:8080/"
        },
        "id": "jHB2Q3C-jrAA",
        "outputId": "8921e0a0-08d8-472b-af64-845b08f2979f"
      },
      "execution_count": 72,
      "outputs": [
        {
          "output_type": "stream",
          "name": "stdout",
          "text": [
            "(7, 8, 7, 8, 7, 8)\n"
          ]
        }
      ]
    },
    {
      "cell_type": "markdown",
      "source": [
        "##3.6 Tuple Sorting"
      ],
      "metadata": {
        "id": "vrCba1jJjw19"
      }
    },
    {
      "cell_type": "code",
      "source": [
        "t6 = (4, 1, 7, 2, 9)\n",
        "a = tuple(sorted(t6))\n",
        "print(a)"
      ],
      "metadata": {
        "colab": {
          "base_uri": "https://localhost:8080/"
        },
        "id": "rY6UruHojxpL",
        "outputId": "f59669e6-4a3b-4905-9480-adc4cae987f0"
      },
      "execution_count": 73,
      "outputs": [
        {
          "output_type": "stream",
          "name": "stdout",
          "text": [
            "(1, 2, 4, 7, 9)\n"
          ]
        }
      ]
    },
    {
      "cell_type": "markdown",
      "source": [
        "#Part 4 Dictionary Practice (With Hints!) (10pts)"
      ],
      "metadata": {
        "id": "pSX_e0nPjw6l"
      }
    },
    {
      "cell_type": "code",
      "source": [
        "person = {\"name\": \"Linda\", \"age\": 25, \"city\": \"Seattle\", \"gender\": \"Female\"}"
      ],
      "metadata": {
        "id": "uI5vw3G7j6UC"
      },
      "execution_count": 74,
      "outputs": []
    },
    {
      "cell_type": "markdown",
      "source": [
        "##4.1 Given the dictionary person, print its keys. (1pts)"
      ],
      "metadata": {
        "id": "dVt7DFTnj48J"
      }
    },
    {
      "cell_type": "code",
      "source": [
        "print(person.keys())"
      ],
      "metadata": {
        "colab": {
          "base_uri": "https://localhost:8080/"
        },
        "id": "IyYnTwVIkAOj",
        "outputId": "7bf0b04d-919f-49fb-8946-130e24a969da"
      },
      "execution_count": 75,
      "outputs": [
        {
          "output_type": "stream",
          "name": "stdout",
          "text": [
            "dict_keys(['name', 'age', 'city', 'gender'])\n"
          ]
        }
      ]
    },
    {
      "cell_type": "markdown",
      "source": [
        "##4.2 Given the dictionary person, print its values. (1pts)"
      ],
      "metadata": {
        "id": "bTk3kMymj9j7"
      }
    },
    {
      "cell_type": "code",
      "source": [
        "print(person.values())"
      ],
      "metadata": {
        "colab": {
          "base_uri": "https://localhost:8080/"
        },
        "id": "uSxVfZmWjxC-",
        "outputId": "46b340c2-29fe-4458-9c64-5563ddd8e8c0"
      },
      "execution_count": 76,
      "outputs": [
        {
          "output_type": "stream",
          "name": "stdout",
          "text": [
            "dict_values(['Linda', 25, 'Seattle', 'Female'])\n"
          ]
        }
      ]
    },
    {
      "cell_type": "markdown",
      "source": [
        "##4.3 Given the dict person, Add a new key-value pair to it, the new key-value pair is \"job\": engineer. (3pts)"
      ],
      "metadata": {
        "id": "TFWmiSJ8kBq5"
      }
    },
    {
      "cell_type": "code",
      "source": [
        "person[\"job\"] = \"engineer\"\n",
        "print(person)"
      ],
      "metadata": {
        "colab": {
          "base_uri": "https://localhost:8080/"
        },
        "id": "FrpTiBg7kBzy",
        "outputId": "1946270c-9739-4fb2-9a39-c9f37e893489"
      },
      "execution_count": 77,
      "outputs": [
        {
          "output_type": "stream",
          "name": "stdout",
          "text": [
            "{'name': 'Linda', 'age': 25, 'city': 'Seattle', 'gender': 'Female', 'job': 'engineer'}\n"
          ]
        }
      ]
    },
    {
      "cell_type": "markdown",
      "source": [
        "##4.4 Delete the key age from the dictionary"
      ],
      "metadata": {
        "id": "1iuuwDNfkWsN"
      }
    },
    {
      "cell_type": "code",
      "source": [
        "del person[\"age\"]\n",
        "print(person)"
      ],
      "metadata": {
        "colab": {
          "base_uri": "https://localhost:8080/"
        },
        "id": "_lXPW8zEkZET",
        "outputId": "6b3c4302-4274-4c34-b481-f0f9aa01337a"
      },
      "execution_count": 78,
      "outputs": [
        {
          "output_type": "stream",
          "name": "stdout",
          "text": [
            "{'name': 'Linda', 'city': 'Seattle', 'gender': 'Female', 'job': 'engineer'}\n"
          ]
        }
      ]
    },
    {
      "cell_type": "markdown",
      "source": [
        "##4.5 Iterate over the dictionary and print key-value pairs"
      ],
      "metadata": {
        "id": "IqqlRgFskW38"
      }
    },
    {
      "cell_type": "code",
      "source": [
        "for key, value in person.items():\n",
        "    print(f\"{key}: {value}\")"
      ],
      "metadata": {
        "colab": {
          "base_uri": "https://localhost:8080/"
        },
        "id": "i3JYzZ3UkceS",
        "outputId": "0b491b9e-5f74-40cf-9943-460e33e0b546"
      },
      "execution_count": 79,
      "outputs": [
        {
          "output_type": "stream",
          "name": "stdout",
          "text": [
            "name: Linda\n",
            "city: Seattle\n",
            "gender: Female\n",
            "job: engineer\n"
          ]
        }
      ]
    },
    {
      "cell_type": "markdown",
      "source": [
        "#Part 5: Sets Practice\n",
        "##5.1 Create a set and print elements"
      ],
      "metadata": {
        "id": "rIlN1ERqkW63"
      }
    },
    {
      "cell_type": "code",
      "source": [
        "s = {1, 2, 3, 4, 5, 6, 7, 8, 9, 10}\n",
        "print(s)"
      ],
      "metadata": {
        "colab": {
          "base_uri": "https://localhost:8080/"
        },
        "id": "kve_Fs9fkhbK",
        "outputId": "7365c3b7-5aa0-4f4e-cd22-32057bf5b620"
      },
      "execution_count": 80,
      "outputs": [
        {
          "output_type": "stream",
          "name": "stdout",
          "text": [
            "{1, 2, 3, 4, 5, 6, 7, 8, 9, 10}\n"
          ]
        }
      ]
    },
    {
      "cell_type": "markdown",
      "source": [
        "##5.2 Add an element to the set"
      ],
      "metadata": {
        "id": "odIw00FikgBo"
      }
    },
    {
      "cell_type": "code",
      "source": [
        "s.add(11)\n",
        "print(s)"
      ],
      "metadata": {
        "colab": {
          "base_uri": "https://localhost:8080/"
        },
        "id": "Ir2S4AqJkkj6",
        "outputId": "30f8935c-1aea-4ac9-8567-31954035f467"
      },
      "execution_count": 81,
      "outputs": [
        {
          "output_type": "stream",
          "name": "stdout",
          "text": [
            "{1, 2, 3, 4, 5, 6, 7, 8, 9, 10, 11}\n"
          ]
        }
      ]
    },
    {
      "cell_type": "markdown",
      "source": [
        "##5.3 Remove an element from the set"
      ],
      "metadata": {
        "id": "uZzTU24EkW_x"
      }
    },
    {
      "cell_type": "code",
      "source": [
        "s.remove(10)\n",
        "print(s)"
      ],
      "metadata": {
        "colab": {
          "base_uri": "https://localhost:8080/"
        },
        "id": "5gp-VfIDkoOv",
        "outputId": "772d095d-979b-4446-eccf-3e280f802ff0"
      },
      "execution_count": 82,
      "outputs": [
        {
          "output_type": "stream",
          "name": "stdout",
          "text": [
            "{1, 2, 3, 4, 5, 6, 7, 8, 9, 11}\n"
          ]
        }
      ]
    },
    {
      "cell_type": "markdown",
      "source": [
        "##5.4 Find the union of sets A and B"
      ],
      "metadata": {
        "id": "vU0bLr66knbT"
      }
    },
    {
      "cell_type": "code",
      "source": [
        "A = {1, 2, 3}\n",
        "B = {3, 4, 5}\n",
        "union_set = A | B\n",
        "print(union_set)  # 출력: {1, 2, 3, 4, 5}"
      ],
      "metadata": {
        "colab": {
          "base_uri": "https://localhost:8080/"
        },
        "id": "NFe5VLv-knmr",
        "outputId": "89653c22-88d9-4462-efe6-818d3f812d85"
      },
      "execution_count": 83,
      "outputs": [
        {
          "output_type": "stream",
          "name": "stdout",
          "text": [
            "{1, 2, 3, 4, 5}\n"
          ]
        }
      ]
    },
    {
      "cell_type": "markdown",
      "source": [
        "##5.5 Find the intersection of sets A and B"
      ],
      "metadata": {
        "id": "qUKES8flktLg"
      }
    },
    {
      "cell_type": "code",
      "source": [
        "a = A & B\n",
        "print(a)"
      ],
      "metadata": {
        "colab": {
          "base_uri": "https://localhost:8080/"
        },
        "id": "UtNcxYdDktR8",
        "outputId": "61100b78-beb6-40c8-972e-87493f2c3754"
      },
      "execution_count": 84,
      "outputs": [
        {
          "output_type": "stream",
          "name": "stdout",
          "text": [
            "{3}\n"
          ]
        }
      ]
    },
    {
      "cell_type": "markdown",
      "source": [
        "##5.6 Find the difference between sets A and B"
      ],
      "metadata": {
        "id": "y3SpaHxQkyOt"
      }
    },
    {
      "cell_type": "code",
      "source": [
        "print(B-A)\n",
        "print(A-B)\n"
      ],
      "metadata": {
        "colab": {
          "base_uri": "https://localhost:8080/"
        },
        "id": "ztV8AkWzkyVR",
        "outputId": "9fd18799-ff6c-4751-bc16-ad94ad086159"
      },
      "execution_count": 85,
      "outputs": [
        {
          "output_type": "stream",
          "name": "stdout",
          "text": [
            "{4, 5}\n",
            "{1, 2}\n"
          ]
        }
      ]
    },
    {
      "cell_type": "markdown",
      "source": [
        "##Part 5.7: Convert a list to a set (remove duplicates)"
      ],
      "metadata": {
        "id": "i4VWFlEMlE6I"
      }
    },
    {
      "cell_type": "code",
      "source": [
        "lst = [1, 2, 3, 1, 2, 4, 5, 5]\n",
        "print(set(lst))"
      ],
      "metadata": {
        "colab": {
          "base_uri": "https://localhost:8080/"
        },
        "id": "0fSrmlIrlFXM",
        "outputId": "ca3b039f-af9f-43a0-f9f8-1eeac3a8fd71"
      },
      "execution_count": 86,
      "outputs": [
        {
          "output_type": "stream",
          "name": "stdout",
          "text": [
            "{1, 2, 3, 4, 5}\n"
          ]
        }
      ]
    },
    {
      "cell_type": "markdown",
      "source": [
        "#Part 6: Comprehensive Problem\n",
        "##6.1 Remove duplicates from a list"
      ],
      "metadata": {
        "id": "vm8wVYHOlNDJ"
      }
    },
    {
      "cell_type": "code",
      "source": [
        "num_lst = [1, 2, 2, 3, 4, 4, 5, 70, 90, 45, 34, 12, 98, 716, 0, 5, 4, 56, 128, 15, 716, 671, 2, 1, 9, 217, 34]\n",
        "print(list(set(num_lst)))"
      ],
      "metadata": {
        "colab": {
          "base_uri": "https://localhost:8080/"
        },
        "id": "zEdTzrJblNLI",
        "outputId": "3a33fa69-9b31-4acc-e0e8-ef931088fe65"
      },
      "execution_count": 87,
      "outputs": [
        {
          "output_type": "stream",
          "name": "stdout",
          "text": [
            "[0, 1, 2, 3, 4, 5, 128, 9, 12, 15, 671, 34, 45, 56, 70, 716, 217, 90, 98]\n"
          ]
        }
      ]
    },
    {
      "cell_type": "markdown",
      "source": [
        "##6.2 Find common elements between two lists"
      ],
      "metadata": {
        "id": "8Eun2t3zlTSp"
      }
    },
    {
      "cell_type": "code",
      "source": [
        "l1 = [1, 2, 3, 4, 5]\n",
        "l2 = [3, 4, 5, 6, 7]\n",
        "A = list(set(l1) & set(l2))\n",
        "print(A)"
      ],
      "metadata": {
        "colab": {
          "base_uri": "https://localhost:8080/"
        },
        "id": "VwUlByenlTxq",
        "outputId": "76cf9047-98ca-4e10-a135-89d56116aea3"
      },
      "execution_count": 88,
      "outputs": [
        {
          "output_type": "stream",
          "name": "stdout",
          "text": [
            "[3, 4, 5]\n"
          ]
        }
      ]
    },
    {
      "cell_type": "markdown",
      "source": [
        "##6.3 Merge two lists"
      ],
      "metadata": {
        "id": "QFGDhOvclaBr"
      }
    },
    {
      "cell_type": "code",
      "source": [
        "print(l1+l2)"
      ],
      "metadata": {
        "colab": {
          "base_uri": "https://localhost:8080/"
        },
        "id": "XVzGv8tmlaG4",
        "outputId": "8cfedf73-3557-45ac-94ee-cf995f64ce39"
      },
      "execution_count": 89,
      "outputs": [
        {
          "output_type": "stream",
          "name": "stdout",
          "text": [
            "[1, 2, 3, 4, 5, 3, 4, 5, 6, 7]\n"
          ]
        }
      ]
    },
    {
      "cell_type": "markdown",
      "source": [
        "##6.4 Add a new student and print the updated list"
      ],
      "metadata": {
        "id": "znsdqXfjlelN"
      }
    },
    {
      "cell_type": "code",
      "source": [
        "students = [\n",
        "    (\"Alice\", {\"Math\": 90, \"Science\": 85}),\n",
        "    (\"Bob\", {\"Math\": 78, \"English\": 82}),\n",
        "    (\"Charlie\", {\"Science\": 88, \"English\": 91}),\n",
        "]\n",
        "\n",
        "nt = (\"David\", {\"Math\": 79, \"Science\": 90})\n",
        "students.append(nt)\n",
        "\n",
        "for student in students:\n",
        "    print(student)"
      ],
      "metadata": {
        "colab": {
          "base_uri": "https://localhost:8080/"
        },
        "id": "VlSAkHa7lesC",
        "outputId": "957648da-6e71-44c4-bc8d-b21414949b95"
      },
      "execution_count": 90,
      "outputs": [
        {
          "output_type": "stream",
          "name": "stdout",
          "text": [
            "('Alice', {'Math': 90, 'Science': 85})\n",
            "('Bob', {'Math': 78, 'English': 82})\n",
            "('Charlie', {'Science': 88, 'English': 91})\n",
            "('David', {'Math': 79, 'Science': 90})\n"
          ]
        }
      ]
    },
    {
      "cell_type": "markdown",
      "source": [
        "#Part 7: Write Expectations\n",
        "Hi my name is DEX, I'm from korea. I want to learn static using python and upgrade my math skill. I want to upgrade my English skill either. Listen zoom class is very helpful for me. Thank you!!"
      ],
      "metadata": {
        "id": "sjmLz973lrap"
      }
    }
  ]
}